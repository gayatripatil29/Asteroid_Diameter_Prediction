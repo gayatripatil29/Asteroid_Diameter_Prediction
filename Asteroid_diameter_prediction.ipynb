{
 "cells": [
  {
   "cell_type": "markdown",
   "metadata": {},
   "source": [
    "<a id=\"t1.\"></a>\n",
    "# 1. Import Data & Python Packages"
   ]
  },
  {
   "cell_type": "code",
   "execution_count": 1,
   "metadata": {
    "scrolled": false
   },
   "outputs": [
    {
     "name": "stderr",
     "output_type": "stream",
     "text": [
      "C:\\Users\\Sanket Takle\\Anaconda3\\lib\\site-packages\\statsmodels\\tools\\_testing.py:19: FutureWarning: pandas.util.testing is deprecated. Use the functions in the public API at pandas.testing instead.\n",
      "  import pandas.util.testing as tm\n"
     ]
    }
   ],
   "source": [
    "import pandas as pd\n",
    "import numpy as np\n",
    "import matplotlib.pyplot as plt\n",
    "import seaborn as sns\n",
    "import warnings\n",
    "warnings.simplefilter('ignore')"
   ]
  },
  {
   "cell_type": "code",
   "execution_count": 2,
   "metadata": {
    "scrolled": false
   },
   "outputs": [
    {
     "data": {
      "text/html": [
       "<div>\n",
       "<style scoped>\n",
       "    .dataframe tbody tr th:only-of-type {\n",
       "        vertical-align: middle;\n",
       "    }\n",
       "\n",
       "    .dataframe tbody tr th {\n",
       "        vertical-align: top;\n",
       "    }\n",
       "\n",
       "    .dataframe thead th {\n",
       "        text-align: right;\n",
       "    }\n",
       "</style>\n",
       "<table border=\"1\" class=\"dataframe\">\n",
       "  <thead>\n",
       "    <tr style=\"text-align: right;\">\n",
       "      <th></th>\n",
       "      <th>full_name</th>\n",
       "      <th>a</th>\n",
       "      <th>e</th>\n",
       "      <th>G</th>\n",
       "      <th>i</th>\n",
       "      <th>om</th>\n",
       "      <th>w</th>\n",
       "      <th>q</th>\n",
       "      <th>ad</th>\n",
       "      <th>per_y</th>\n",
       "      <th>...</th>\n",
       "      <th>rot_per</th>\n",
       "      <th>GM</th>\n",
       "      <th>BV</th>\n",
       "      <th>UB</th>\n",
       "      <th>IR</th>\n",
       "      <th>spec_B</th>\n",
       "      <th>spec_T</th>\n",
       "      <th>neo</th>\n",
       "      <th>pha</th>\n",
       "      <th>moid</th>\n",
       "    </tr>\n",
       "  </thead>\n",
       "  <tbody>\n",
       "    <tr>\n",
       "      <th>0</th>\n",
       "      <td>1 Ceres</td>\n",
       "      <td>2.769165</td>\n",
       "      <td>0.076009</td>\n",
       "      <td>0.12</td>\n",
       "      <td>10.594067</td>\n",
       "      <td>80.305532</td>\n",
       "      <td>73.597694</td>\n",
       "      <td>2.558684</td>\n",
       "      <td>2.979647</td>\n",
       "      <td>4.608202</td>\n",
       "      <td>...</td>\n",
       "      <td>9.074170</td>\n",
       "      <td>62.6284</td>\n",
       "      <td>0.713</td>\n",
       "      <td>0.426</td>\n",
       "      <td>NaN</td>\n",
       "      <td>C</td>\n",
       "      <td>G</td>\n",
       "      <td>N</td>\n",
       "      <td>N</td>\n",
       "      <td>1.59478</td>\n",
       "    </tr>\n",
       "    <tr>\n",
       "      <th>1</th>\n",
       "      <td>2 Pallas</td>\n",
       "      <td>2.772466</td>\n",
       "      <td>0.230337</td>\n",
       "      <td>0.11</td>\n",
       "      <td>34.836234</td>\n",
       "      <td>173.080063</td>\n",
       "      <td>310.048857</td>\n",
       "      <td>2.133865</td>\n",
       "      <td>3.411067</td>\n",
       "      <td>4.616444</td>\n",
       "      <td>...</td>\n",
       "      <td>7.813200</td>\n",
       "      <td>14.3000</td>\n",
       "      <td>0.635</td>\n",
       "      <td>0.284</td>\n",
       "      <td>NaN</td>\n",
       "      <td>B</td>\n",
       "      <td>B</td>\n",
       "      <td>N</td>\n",
       "      <td>N</td>\n",
       "      <td>1.23324</td>\n",
       "    </tr>\n",
       "    <tr>\n",
       "      <th>2</th>\n",
       "      <td>3 Juno</td>\n",
       "      <td>2.669150</td>\n",
       "      <td>0.256942</td>\n",
       "      <td>0.32</td>\n",
       "      <td>12.988919</td>\n",
       "      <td>169.852760</td>\n",
       "      <td>248.138626</td>\n",
       "      <td>1.983332</td>\n",
       "      <td>3.354967</td>\n",
       "      <td>4.360814</td>\n",
       "      <td>...</td>\n",
       "      <td>7.210000</td>\n",
       "      <td>NaN</td>\n",
       "      <td>0.824</td>\n",
       "      <td>0.433</td>\n",
       "      <td>NaN</td>\n",
       "      <td>Sk</td>\n",
       "      <td>S</td>\n",
       "      <td>N</td>\n",
       "      <td>N</td>\n",
       "      <td>1.03454</td>\n",
       "    </tr>\n",
       "    <tr>\n",
       "      <th>3</th>\n",
       "      <td>4 Vesta</td>\n",
       "      <td>2.361418</td>\n",
       "      <td>0.088721</td>\n",
       "      <td>0.32</td>\n",
       "      <td>7.141771</td>\n",
       "      <td>103.810804</td>\n",
       "      <td>150.728541</td>\n",
       "      <td>2.151909</td>\n",
       "      <td>2.570926</td>\n",
       "      <td>3.628837</td>\n",
       "      <td>...</td>\n",
       "      <td>5.342128</td>\n",
       "      <td>17.8000</td>\n",
       "      <td>0.782</td>\n",
       "      <td>0.492</td>\n",
       "      <td>NaN</td>\n",
       "      <td>V</td>\n",
       "      <td>V</td>\n",
       "      <td>N</td>\n",
       "      <td>N</td>\n",
       "      <td>1.13948</td>\n",
       "    </tr>\n",
       "    <tr>\n",
       "      <th>4</th>\n",
       "      <td>5 Astraea</td>\n",
       "      <td>2.574249</td>\n",
       "      <td>0.191095</td>\n",
       "      <td>NaN</td>\n",
       "      <td>5.366988</td>\n",
       "      <td>141.576604</td>\n",
       "      <td>358.687608</td>\n",
       "      <td>2.082324</td>\n",
       "      <td>3.066174</td>\n",
       "      <td>4.130323</td>\n",
       "      <td>...</td>\n",
       "      <td>16.806000</td>\n",
       "      <td>NaN</td>\n",
       "      <td>0.826</td>\n",
       "      <td>0.411</td>\n",
       "      <td>NaN</td>\n",
       "      <td>S</td>\n",
       "      <td>S</td>\n",
       "      <td>N</td>\n",
       "      <td>N</td>\n",
       "      <td>1.09589</td>\n",
       "    </tr>\n",
       "  </tbody>\n",
       "</table>\n",
       "<p>5 rows × 27 columns</p>\n",
       "</div>"
      ],
      "text/plain": [
       "        full_name         a         e     G          i          om  \\\n",
       "0         1 Ceres  2.769165  0.076009  0.12  10.594067   80.305532   \n",
       "1        2 Pallas  2.772466  0.230337  0.11  34.836234  173.080063   \n",
       "2          3 Juno  2.669150  0.256942  0.32  12.988919  169.852760   \n",
       "3         4 Vesta  2.361418  0.088721  0.32   7.141771  103.810804   \n",
       "4       5 Astraea  2.574249  0.191095   NaN   5.366988  141.576604   \n",
       "\n",
       "            w         q        ad     per_y  ...    rot_per       GM     BV  \\\n",
       "0   73.597694  2.558684  2.979647  4.608202  ...   9.074170  62.6284  0.713   \n",
       "1  310.048857  2.133865  3.411067  4.616444  ...   7.813200  14.3000  0.635   \n",
       "2  248.138626  1.983332  3.354967  4.360814  ...   7.210000      NaN  0.824   \n",
       "3  150.728541  2.151909  2.570926  3.628837  ...   5.342128  17.8000  0.782   \n",
       "4  358.687608  2.082324  3.066174  4.130323  ...  16.806000      NaN  0.826   \n",
       "\n",
       "      UB  IR spec_B  spec_T  neo  pha     moid  \n",
       "0  0.426 NaN      C       G    N    N  1.59478  \n",
       "1  0.284 NaN      B       B    N    N  1.23324  \n",
       "2  0.433 NaN     Sk       S    N    N  1.03454  \n",
       "3  0.492 NaN      V       V    N    N  1.13948  \n",
       "4  0.411 NaN      S       S    N    N  1.09589  \n",
       "\n",
       "[5 rows x 27 columns]"
      ]
     },
     "execution_count": 2,
     "metadata": {},
     "output_type": "execute_result"
    }
   ],
   "source": [
    "#Reading the csv file in a dataframe\n",
    "df=pd.read_csv('Asteroid.csv')\n",
    "df.head()"
   ]
  },
  {
   "cell_type": "code",
   "execution_count": 3,
   "metadata": {
    "scrolled": false
   },
   "outputs": [
    {
     "data": {
      "text/plain": [
       "(839736, 27)"
      ]
     },
     "execution_count": 3,
     "metadata": {},
     "output_type": "execute_result"
    }
   ],
   "source": [
    "# to check the number of rows and columns in the dataset\n",
    "df.shape"
   ]
  },
  {
   "cell_type": "code",
   "execution_count": 4,
   "metadata": {
    "scrolled": false
   },
   "outputs": [
    {
     "name": "stdout",
     "output_type": "stream",
     "text": [
      "<class 'pandas.core.frame.DataFrame'>\n",
      "RangeIndex: 839736 entries, 0 to 839735\n",
      "Data columns (total 27 columns):\n",
      " #   Column          Non-Null Count   Dtype  \n",
      "---  ------          --------------   -----  \n",
      " 0   full_name       839736 non-null  object \n",
      " 1   a               839734 non-null  float64\n",
      " 2   e               839736 non-null  float64\n",
      " 3   G               119 non-null     float64\n",
      " 4   i               839736 non-null  float64\n",
      " 5   om              839736 non-null  float64\n",
      " 6   w               839736 non-null  float64\n",
      " 7   q               839736 non-null  float64\n",
      " 8   ad              839730 non-null  float64\n",
      " 9   per_y           839735 non-null  float64\n",
      " 10  data_arc        823947 non-null  float64\n",
      " 11  condition_code  838743 non-null  object \n",
      " 12  n_obs_used      839736 non-null  int64  \n",
      " 13  H               837042 non-null  float64\n",
      " 14  diameter        137681 non-null  object \n",
      " 15  extent          18 non-null      object \n",
      " 16  albedo          136452 non-null  float64\n",
      " 17  rot_per         18796 non-null   float64\n",
      " 18  GM              14 non-null      float64\n",
      " 19  BV              1021 non-null    float64\n",
      " 20  UB              979 non-null     float64\n",
      " 21  IR              1 non-null       float64\n",
      " 22  spec_B          1666 non-null    object \n",
      " 23  spec_T          980 non-null     object \n",
      " 24  neo             839730 non-null  object \n",
      " 25  pha             822814 non-null  object \n",
      " 26  moid            822814 non-null  float64\n",
      "dtypes: float64(18), int64(1), object(8)\n",
      "memory usage: 173.0+ MB\n"
     ]
    }
   ],
   "source": [
    "# to check out the  information about a DataFrame including the index dtype and column dtypes, non-null values and memory usage.\n",
    "df.info()"
   ]
  },
  {
   "cell_type": "markdown",
   "metadata": {},
   "source": [
    "\n",
    "# Data Preprocessing and EDA"
   ]
  },
  {
   "cell_type": "code",
   "execution_count": 5,
   "metadata": {
    "scrolled": false
   },
   "outputs": [
    {
     "data": {
      "text/plain": [
       "full_name              0\n",
       "a                      2\n",
       "e                      0\n",
       "G                 839617\n",
       "i                      0\n",
       "om                     0\n",
       "w                      0\n",
       "q                      0\n",
       "ad                     6\n",
       "per_y                  1\n",
       "data_arc           15789\n",
       "condition_code       993\n",
       "n_obs_used             0\n",
       "H                   2694\n",
       "diameter          702055\n",
       "extent            839718\n",
       "albedo            703284\n",
       "rot_per           820940\n",
       "GM                839722\n",
       "BV                838715\n",
       "UB                838757\n",
       "IR                839735\n",
       "spec_B            838070\n",
       "spec_T            838756\n",
       "neo                    6\n",
       "pha                16922\n",
       "moid               16922\n",
       "dtype: int64"
      ]
     },
     "execution_count": 5,
     "metadata": {},
     "output_type": "execute_result"
    }
   ],
   "source": [
    "# Checking the missing values in the dataset\n",
    "df.isnull().sum()"
   ]
  },
  {
   "cell_type": "code",
   "execution_count": 6,
   "metadata": {
    "scrolled": false
   },
   "outputs": [],
   "source": [
    "#transforming to numeric, setting errors to NaN\n",
    "df['diameter']= pd.to_numeric(df['diameter'],errors='coerce') "
   ]
  },
  {
   "cell_type": "code",
   "execution_count": 7,
   "metadata": {
    "scrolled": false
   },
   "outputs": [],
   "source": [
    "#rows with nan diameters to drop\n",
    "dropindexes = df['diameter'][df['diameter'].isnull()].index \n",
    "df = df.drop(dropindexes, axis=0) "
   ]
  },
  {
   "cell_type": "code",
   "execution_count": 8,
   "metadata": {
    "scrolled": false
   },
   "outputs": [
    {
     "data": {
      "text/plain": [
       "(137680, 27)"
      ]
     },
     "execution_count": 8,
     "metadata": {},
     "output_type": "execute_result"
    }
   ],
   "source": [
    "df.shape"
   ]
  },
  {
   "cell_type": "code",
   "execution_count": 9,
   "metadata": {},
   "outputs": [
    {
     "data": {
      "text/plain": [
       "full_name              0\n",
       "a                      0\n",
       "e                      0\n",
       "G                 137562\n",
       "i                      0\n",
       "om                     0\n",
       "w                      0\n",
       "q                      0\n",
       "ad                     0\n",
       "per_y                  0\n",
       "data_arc             140\n",
       "condition_code         0\n",
       "n_obs_used             0\n",
       "H                    751\n",
       "diameter               0\n",
       "extent            137665\n",
       "albedo              1232\n",
       "rot_per           126493\n",
       "GM                137667\n",
       "BV                136676\n",
       "UB                136716\n",
       "IR                137679\n",
       "spec_B            136311\n",
       "spec_T            136716\n",
       "neo                    0\n",
       "pha                    0\n",
       "moid                   0\n",
       "dtype: int64"
      ]
     },
     "execution_count": 9,
     "metadata": {},
     "output_type": "execute_result"
    }
   ],
   "source": [
    "df.isnull().sum()"
   ]
  },
  {
   "cell_type": "markdown",
   "metadata": {},
   "source": [
    "<a id=\"t2.1.\"></a>\n",
    "## 2.1. Dropping Features"
   ]
  },
  {
   "cell_type": "code",
   "execution_count": 10,
   "metadata": {
    "scrolled": false
   },
   "outputs": [
    {
     "data": {
      "text/html": [
       "<div>\n",
       "<style scoped>\n",
       "    .dataframe tbody tr th:only-of-type {\n",
       "        vertical-align: middle;\n",
       "    }\n",
       "\n",
       "    .dataframe tbody tr th {\n",
       "        vertical-align: top;\n",
       "    }\n",
       "\n",
       "    .dataframe thead th {\n",
       "        text-align: right;\n",
       "    }\n",
       "</style>\n",
       "<table border=\"1\" class=\"dataframe\">\n",
       "  <thead>\n",
       "    <tr style=\"text-align: right;\">\n",
       "      <th></th>\n",
       "      <th>a</th>\n",
       "      <th>e</th>\n",
       "      <th>i</th>\n",
       "      <th>om</th>\n",
       "      <th>w</th>\n",
       "      <th>q</th>\n",
       "      <th>ad</th>\n",
       "      <th>per_y</th>\n",
       "      <th>data_arc</th>\n",
       "      <th>condition_code</th>\n",
       "      <th>n_obs_used</th>\n",
       "      <th>H</th>\n",
       "      <th>diameter</th>\n",
       "      <th>albedo</th>\n",
       "      <th>neo</th>\n",
       "      <th>pha</th>\n",
       "      <th>moid</th>\n",
       "    </tr>\n",
       "  </thead>\n",
       "  <tbody>\n",
       "    <tr>\n",
       "      <th>0</th>\n",
       "      <td>2.769165</td>\n",
       "      <td>0.076009</td>\n",
       "      <td>10.594067</td>\n",
       "      <td>80.305532</td>\n",
       "      <td>73.597694</td>\n",
       "      <td>2.558684</td>\n",
       "      <td>2.979647</td>\n",
       "      <td>4.608202</td>\n",
       "      <td>8822.0</td>\n",
       "      <td>0</td>\n",
       "      <td>1002</td>\n",
       "      <td>3.34</td>\n",
       "      <td>939.400</td>\n",
       "      <td>0.0900</td>\n",
       "      <td>N</td>\n",
       "      <td>N</td>\n",
       "      <td>1.59478</td>\n",
       "    </tr>\n",
       "    <tr>\n",
       "      <th>1</th>\n",
       "      <td>2.772466</td>\n",
       "      <td>0.230337</td>\n",
       "      <td>34.836234</td>\n",
       "      <td>173.080063</td>\n",
       "      <td>310.048857</td>\n",
       "      <td>2.133865</td>\n",
       "      <td>3.411067</td>\n",
       "      <td>4.616444</td>\n",
       "      <td>72318.0</td>\n",
       "      <td>0</td>\n",
       "      <td>8490</td>\n",
       "      <td>4.13</td>\n",
       "      <td>545.000</td>\n",
       "      <td>0.1010</td>\n",
       "      <td>N</td>\n",
       "      <td>N</td>\n",
       "      <td>1.23324</td>\n",
       "    </tr>\n",
       "    <tr>\n",
       "      <th>2</th>\n",
       "      <td>2.669150</td>\n",
       "      <td>0.256942</td>\n",
       "      <td>12.988919</td>\n",
       "      <td>169.852760</td>\n",
       "      <td>248.138626</td>\n",
       "      <td>1.983332</td>\n",
       "      <td>3.354967</td>\n",
       "      <td>4.360814</td>\n",
       "      <td>72684.0</td>\n",
       "      <td>0</td>\n",
       "      <td>7104</td>\n",
       "      <td>5.33</td>\n",
       "      <td>246.596</td>\n",
       "      <td>0.2140</td>\n",
       "      <td>N</td>\n",
       "      <td>N</td>\n",
       "      <td>1.03454</td>\n",
       "    </tr>\n",
       "    <tr>\n",
       "      <th>3</th>\n",
       "      <td>2.361418</td>\n",
       "      <td>0.088721</td>\n",
       "      <td>7.141771</td>\n",
       "      <td>103.810804</td>\n",
       "      <td>150.728541</td>\n",
       "      <td>2.151909</td>\n",
       "      <td>2.570926</td>\n",
       "      <td>3.628837</td>\n",
       "      <td>24288.0</td>\n",
       "      <td>0</td>\n",
       "      <td>9325</td>\n",
       "      <td>3.20</td>\n",
       "      <td>525.400</td>\n",
       "      <td>0.4228</td>\n",
       "      <td>N</td>\n",
       "      <td>N</td>\n",
       "      <td>1.13948</td>\n",
       "    </tr>\n",
       "    <tr>\n",
       "      <th>4</th>\n",
       "      <td>2.574249</td>\n",
       "      <td>0.191095</td>\n",
       "      <td>5.366988</td>\n",
       "      <td>141.576604</td>\n",
       "      <td>358.687608</td>\n",
       "      <td>2.082324</td>\n",
       "      <td>3.066174</td>\n",
       "      <td>4.130323</td>\n",
       "      <td>63431.0</td>\n",
       "      <td>0</td>\n",
       "      <td>2861</td>\n",
       "      <td>6.85</td>\n",
       "      <td>106.699</td>\n",
       "      <td>0.2740</td>\n",
       "      <td>N</td>\n",
       "      <td>N</td>\n",
       "      <td>1.09589</td>\n",
       "    </tr>\n",
       "  </tbody>\n",
       "</table>\n",
       "</div>"
      ],
      "text/plain": [
       "          a         e          i          om           w         q        ad  \\\n",
       "0  2.769165  0.076009  10.594067   80.305532   73.597694  2.558684  2.979647   \n",
       "1  2.772466  0.230337  34.836234  173.080063  310.048857  2.133865  3.411067   \n",
       "2  2.669150  0.256942  12.988919  169.852760  248.138626  1.983332  3.354967   \n",
       "3  2.361418  0.088721   7.141771  103.810804  150.728541  2.151909  2.570926   \n",
       "4  2.574249  0.191095   5.366988  141.576604  358.687608  2.082324  3.066174   \n",
       "\n",
       "      per_y  data_arc condition_code  n_obs_used     H  diameter  albedo neo  \\\n",
       "0  4.608202    8822.0              0        1002  3.34   939.400  0.0900   N   \n",
       "1  4.616444   72318.0              0        8490  4.13   545.000  0.1010   N   \n",
       "2  4.360814   72684.0              0        7104  5.33   246.596  0.2140   N   \n",
       "3  3.628837   24288.0              0        9325  3.20   525.400  0.4228   N   \n",
       "4  4.130323   63431.0              0        2861  6.85   106.699  0.2740   N   \n",
       "\n",
       "  pha     moid  \n",
       "0   N  1.59478  \n",
       "1   N  1.23324  \n",
       "2   N  1.03454  \n",
       "3   N  1.13948  \n",
       "4   N  1.09589  "
      ]
     },
     "execution_count": 10,
     "metadata": {},
     "output_type": "execute_result"
    }
   ],
   "source": [
    "#Dropping the features with high ratio of missing values and full_name(as it is not relevant)\n",
    "df=df.drop(['full_name','G','extent','rot_per','GM','BV','UB','IR','spec_B','spec_T'],axis=1)\n",
    "df.head()"
   ]
  },
  {
   "cell_type": "code",
   "execution_count": 11,
   "metadata": {
    "scrolled": false
   },
   "outputs": [
    {
     "data": {
      "text/plain": [
       "a                    0\n",
       "e                    0\n",
       "i                    0\n",
       "om                   0\n",
       "w                    0\n",
       "q                    0\n",
       "ad                   0\n",
       "per_y                0\n",
       "data_arc           140\n",
       "condition_code       0\n",
       "n_obs_used           0\n",
       "H                  751\n",
       "diameter             0\n",
       "albedo            1232\n",
       "neo                  0\n",
       "pha                  0\n",
       "moid                 0\n",
       "dtype: int64"
      ]
     },
     "execution_count": 11,
     "metadata": {},
     "output_type": "execute_result"
    }
   ],
   "source": [
    "df.isnull().sum()"
   ]
  },
  {
   "cell_type": "markdown",
   "metadata": {
    "scrolled": false
   },
   "source": [
    "<a id=\"t2.2.\"></a>\n",
    "## 2.2. data_arc - Missing Values"
   ]
  },
  {
   "cell_type": "code",
   "execution_count": 12,
   "metadata": {
    "scrolled": true
   },
   "outputs": [
    {
     "data": {
      "text/plain": [
       "<matplotlib.axes._subplots.AxesSubplot at 0x22a80f50f08>"
      ]
     },
     "execution_count": 12,
     "metadata": {},
     "output_type": "execute_result"
    },
    {
     "data": {
      "image/png": "[encoded data removed]",
      "text/plain": [
       "<Figure size 432x288 with 1 Axes>"
      ]
     },
     "metadata": {
      "needs_background": "light"
     },
     "output_type": "display_data"
    }
   ],
   "source": [
    "sns.distplot(df.data_arc.dropna())"
   ]
  },
  {
   "cell_type": "code",
   "execution_count": 13,
   "metadata": {},
   "outputs": [
    {
     "name": "stdout",
     "output_type": "stream",
     "text": [
      "count    137540.000000\n",
      "mean       8908.697681\n",
      "std        6150.505469\n",
      "min           1.000000\n",
      "25%        6265.000000\n",
      "50%        7492.000000\n",
      "75%        9655.000000\n",
      "max       72684.000000\n",
      "Name: data_arc, dtype: float64\n",
      "\n",
      "The maximum repeated value is :  1.0\n"
     ]
    }
   ],
   "source": [
    "#descrption about data_arc feature\n",
    "print(df['data_arc'].describe())\n",
    "print('\\nThe maximum repeated value is : ',df['data_arc'].value_counts().index[0])"
   ]
  },
  {
   "cell_type": "code",
   "execution_count": 14,
   "metadata": {
    "scrolled": false
   },
   "outputs": [],
   "source": [
    "#Since median is greater than mean, it is positively skewed. Hence, imputing with median.\n",
    "df['data_arc'].fillna(df['data_arc'].median() , inplace = True) # median is the best option here "
   ]
  },
  {
   "cell_type": "markdown",
   "metadata": {},
   "source": [
    "<a id=\"t2.3.\"></a>\n",
    "## 2.3. H - Missing Values"
   ]
  },
  {
   "cell_type": "code",
   "execution_count": 15,
   "metadata": {},
   "outputs": [
    {
     "data": {
      "text/plain": [
       "<matplotlib.axes._subplots.AxesSubplot at 0x22a812605c8>"
      ]
     },
     "execution_count": 15,
     "metadata": {},
     "output_type": "execute_result"
    },
    {
     "data": {
      "image/png": "[encoded data removed]",
      "text/plain": [
       "<Figure size 432x288 with 1 Axes>"
      ]
     },
     "metadata": {
      "needs_background": "light"
     },
     "output_type": "display_data"
    }
   ],
   "source": [
    "sns.distplot(df.H.dropna())"
   ]
  },
  {
   "cell_type": "code",
   "execution_count": 16,
   "metadata": {
    "scrolled": true
   },
   "outputs": [
    {
     "name": "stdout",
     "output_type": "stream",
     "text": [
      "count    136929.00000\n",
      "mean         15.17739\n",
      "std           1.40739\n",
      "min           3.20000\n",
      "25%          14.40000\n",
      "50%          15.30000\n",
      "75%          16.10000\n",
      "max          29.90000\n",
      "Name: H, dtype: float64\n",
      "\n",
      "The maximum repeated value is :  15.2\n"
     ]
    }
   ],
   "source": [
    "print(df['H'].describe())\n",
    "print('\\nThe maximum repeated value is : ',df['H'].value_counts().index[0])"
   ]
  },
  {
   "cell_type": "code",
   "execution_count": 17,
   "metadata": {
    "scrolled": false
   },
   "outputs": [],
   "source": [
    "# Since mean and median are close, imputing the missing values with mean.\n",
    "df['H'].fillna(df['H'].mean() , inplace = True)"
   ]
  },
  {
   "cell_type": "markdown",
   "metadata": {},
   "source": [
    "<a id=\"t2.4.\"></a>\n",
    "## 2.4. Albedo - Missing Values"
   ]
  },
  {
   "cell_type": "code",
   "execution_count": 18,
   "metadata": {},
   "outputs": [
    {
     "data": {
      "text/plain": [
       "<matplotlib.axes._subplots.AxesSubplot at 0x22a81296348>"
      ]
     },
     "execution_count": 18,
     "metadata": {},
     "output_type": "execute_result"
    },
    {
     "data": {
      "image/png": "[encoded data removed]",
      "text/plain": [
       "<Figure size 432x288 with 1 Axes>"
      ]
     },
     "metadata": {
      "needs_background": "light"
     },
     "output_type": "display_data"
    }
   ],
   "source": [
    "sns.distplot(df.albedo.dropna())"
   ]
  },
  {
   "cell_type": "code",
   "execution_count": 19,
   "metadata": {
    "scrolled": false
   },
   "outputs": [
    {
     "name": "stdout",
     "output_type": "stream",
     "text": [
      "count    136448.000000\n",
      "mean          0.130050\n",
      "std           0.109984\n",
      "min           0.001000\n",
      "25%           0.053000\n",
      "50%           0.078000\n",
      "75%           0.188000\n",
      "max           1.000000\n",
      "Name: albedo, dtype: float64\n",
      "\n",
      "The maximum repeated value is :  0.057\n"
     ]
    }
   ],
   "source": [
    "print(df['albedo'].describe())\n",
    "print('\\nThe maximum repeated value is : ',df['albedo'].value_counts().index[0])"
   ]
  },
  {
   "cell_type": "code",
   "execution_count": 20,
   "metadata": {
    "scrolled": false
   },
   "outputs": [],
   "source": [
    "#Since median is greater than mean, it is positively skewed. Hence, imputing with median.\n",
    "df['albedo'].fillna(df['albedo'].median() , inplace = True)"
   ]
  },
  {
   "cell_type": "code",
   "execution_count": 21,
   "metadata": {},
   "outputs": [
    {
     "data": {
      "text/plain": [
       "<matplotlib.axes._subplots.AxesSubplot at 0x22a81385c48>"
      ]
     },
     "execution_count": 21,
     "metadata": {},
     "output_type": "execute_result"
    },
    {
     "data": {
      "image/png": "[encoded data removed]",
      "text/plain": [
       "<Figure size 432x288 with 1 Axes>"
      ]
     },
     "metadata": {
      "needs_background": "light"
     },
     "output_type": "display_data"
    }
   ],
   "source": [
    "sns.distplot(df.albedo)"
   ]
  },
  {
   "cell_type": "code",
   "execution_count": 22,
   "metadata": {
    "scrolled": false
   },
   "outputs": [
    {
     "data": {
      "text/plain": [
       "a                 0\n",
       "e                 0\n",
       "i                 0\n",
       "om                0\n",
       "w                 0\n",
       "q                 0\n",
       "ad                0\n",
       "per_y             0\n",
       "data_arc          0\n",
       "condition_code    0\n",
       "n_obs_used        0\n",
       "H                 0\n",
       "diameter          0\n",
       "albedo            0\n",
       "neo               0\n",
       "pha               0\n",
       "moid              0\n",
       "dtype: int64"
      ]
     },
     "execution_count": 22,
     "metadata": {},
     "output_type": "execute_result"
    }
   ],
   "source": [
    "df.isnull().sum()"
   ]
  },
  {
   "cell_type": "code",
   "execution_count": 23,
   "metadata": {
    "scrolled": true
   },
   "outputs": [
    {
     "name": "stdout",
     "output_type": "stream",
     "text": [
      "condition_code: [0 1 3 2 '0' '1' '2' '3' '4' '5' '9' '7' 5.0 6.0 4.0 7.0 9.0 8.0 '8' '6']\n",
      "neo: ['N' 'Y']\n",
      "pha: ['N' 'Y']\n"
     ]
    }
   ],
   "source": [
    "# To know the categries present in the categorical features.\n",
    "list_of_cols = df.select_dtypes(['object'])\n",
    "for col in list_of_cols:\n",
    "    print(str(col) + \": \"+ str(df[col].unique()))"
   ]
  },
  {
   "cell_type": "markdown",
   "metadata": {},
   "source": [
    "#### Condition code is the orbit condition code which has the value between 0 and 9. As we can see from above, the values are in different formats."
   ]
  },
  {
   "cell_type": "code",
   "execution_count": 24,
   "metadata": {},
   "outputs": [],
   "source": [
    "df['condition_code'] = df['condition_code'].astype('int32')"
   ]
  },
  {
   "cell_type": "code",
   "execution_count": 25,
   "metadata": {},
   "outputs": [
    {
     "data": {
      "text/plain": [
       "0    128209\n",
       "9      6551\n",
       "1      1372\n",
       "2       397\n",
       "5       334\n",
       "7       207\n",
       "6       188\n",
       "4       177\n",
       "3       168\n",
       "8        77\n",
       "Name: condition_code, dtype: int64"
      ]
     },
     "execution_count": 25,
     "metadata": {},
     "output_type": "execute_result"
    }
   ],
   "source": [
    "df.condition_code.value_counts()"
   ]
  },
  {
   "cell_type": "code",
   "execution_count": 26,
   "metadata": {},
   "outputs": [
    {
     "data": {
      "text/plain": [
       "(137680, 17)"
      ]
     },
     "execution_count": 26,
     "metadata": {},
     "output_type": "execute_result"
    }
   ],
   "source": [
    "df.shape"
   ]
  },
  {
   "cell_type": "markdown",
   "metadata": {},
   "source": [
    "<a id=\"t3.1.\"></a>\n",
    "## 3.1. Exploration of Diameter"
   ]
  },
  {
   "cell_type": "code",
   "execution_count": 27,
   "metadata": {
    "scrolled": false
   },
   "outputs": [
    {
     "name": "stdout",
     "output_type": "stream",
     "text": [
      "count    137680.000000\n",
      "mean          5.480873\n",
      "std           9.365499\n",
      "min           0.002500\n",
      "25%           2.770000\n",
      "50%           3.956000\n",
      "75%           5.741000\n",
      "max         939.400000\n",
      "Name: diameter, dtype: float64\n"
     ]
    },
    {
     "data": {
      "image/png": "[encoded data removed]",
      "text/plain": [
       "<Figure size 720x360 with 1 Axes>"
      ]
     },
     "metadata": {
      "needs_background": "light"
     },
     "output_type": "display_data"
    },
    {
     "data": {
      "image/png": "[encoded data removed]",
      "text/plain": [
       "<Figure size 720x360 with 1 Axes>"
      ]
     },
     "metadata": {
      "needs_background": "light"
     },
     "output_type": "display_data"
    }
   ],
   "source": [
    "print(df['diameter'].describe())\n",
    "\n",
    "import seaborn as sns\n",
    "import matplotlib.pyplot as plt\n",
    "plt.figure(figsize=(10,5))\n",
    "sns.boxplot(x=df['diameter'])\n",
    "plt.show()\n",
    "\n",
    "# Distribution on rent \n",
    "plt.figure(figsize=(10,5))\n",
    "sns.distplot(df['diameter']);\n",
    "plt.show()"
   ]
  },
  {
   "cell_type": "markdown",
   "metadata": {},
   "source": [
    "#### As we can see that the data is highly positive skewed . The difference between the 75th percentile and the maximum value is very large. However the outliers in this case are asteroids with high diameters which is  relevant  data  ."
   ]
  },
  {
   "cell_type": "markdown",
   "metadata": {},
   "source": [
    "### Boxcox tranformation "
   ]
  },
  {
   "cell_type": "code",
   "execution_count": 28,
   "metadata": {},
   "outputs": [],
   "source": [
    "# import modules\n",
    "import numpy as np\n",
    "from scipy import stats\n",
    "from sklearn.preprocessing import power_transform\n",
    "col=['diameter','a','e','i','q','ad','per_y','data_arc','n_obs_used','albedo','moid']\n",
    "for i in col:\n",
    "    df[i], lvalue = stats.boxcox(df[i])"
   ]
  },
  {
   "cell_type": "markdown",
   "metadata": {},
   "source": [
    "<a id=\"t3.19.\"></a>\n",
    "## 3.19. Heatmap"
   ]
  },
  {
   "cell_type": "code",
   "execution_count": 29,
   "metadata": {},
   "outputs": [
    {
     "data": {
      "image/png": "[encoded data removed]",
      "text/plain": [
       "<Figure size 1440x864 with 2 Axes>"
      ]
     },
     "metadata": {
      "needs_background": "light"
     },
     "output_type": "display_data"
    }
   ],
   "source": [
    "# Figure size\n",
    "cor=df.corr()\n",
    "plt.figure(figsize=(20,12))\n",
    "\n",
    "# Heatmap\n",
    "sns.heatmap(cor, cmap=\"coolwarm\", annot=True)\n",
    "plt.show()"
   ]
  },
  {
   "cell_type": "markdown",
   "metadata": {},
   "source": [
    "## OneHot Encoding"
   ]
  },
  {
   "cell_type": "code",
   "execution_count": 30,
   "metadata": {},
   "outputs": [],
   "source": [
    "from sklearn.preprocessing import LabelEncoder , OneHotEncoder\n",
    "label_encode = LabelEncoder() \n",
    "onehot_encode = OneHotEncoder(sparse=False)\n",
    "\n",
    "df['neo'] = label_encode.fit_transform(df['neo'])\n",
    "df['pha'] = label_encode.fit_transform(df['pha'])"
   ]
  },
  {
   "cell_type": "code",
   "execution_count": 31,
   "metadata": {},
   "outputs": [],
   "source": [
    "cat_df = pd.concat([df.condition_code , df.neo , df.pha] , axis = 1 )"
   ]
  },
  {
   "cell_type": "code",
   "execution_count": 32,
   "metadata": {
    "scrolled": true
   },
   "outputs": [
    {
     "data": {
      "text/plain": [
       "OneHotEncoder(categories='auto', drop=None, dtype=<class 'numpy.float64'>,\n",
       "              handle_unknown='error', sparse=False)"
      ]
     },
     "execution_count": 32,
     "metadata": {},
     "output_type": "execute_result"
    }
   ],
   "source": [
    "onehot_encode.fit(cat_df)"
   ]
  },
  {
   "cell_type": "code",
   "execution_count": 33,
   "metadata": {},
   "outputs": [
    {
     "data": {
      "text/plain": [
       "array([[1., 0., 0., ..., 0., 1., 0.],\n",
       "       [1., 0., 0., ..., 0., 1., 0.],\n",
       "       [1., 0., 0., ..., 0., 1., 0.],\n",
       "       ...,\n",
       "       [0., 1., 0., ..., 0., 1., 0.],\n",
       "       [0., 0., 1., ..., 0., 1., 0.],\n",
       "       [0., 0., 0., ..., 0., 1., 0.]])"
      ]
     },
     "execution_count": 33,
     "metadata": {},
     "output_type": "execute_result"
    }
   ],
   "source": [
    "cat_df = onehot_encode.transform(cat_df)\n",
    "cat_df"
   ]
  },
  {
   "cell_type": "code",
   "execution_count": 34,
   "metadata": {},
   "outputs": [],
   "source": [
    "cat_df = pd.DataFrame(cat_df , columns= ['condition_code_0' , 'condition_code_1' , 'condition_code_2' , 'condition_code_3' , 'condition_code_4' , 'condition_code_5' , 'condition_code_6' , 'condition_code_7' , 'condition_code_8' , 'condition_code_9' , 'neo_0' , 'neo_1' , 'pha_0' , 'pha_1'])"
   ]
  },
  {
   "cell_type": "code",
   "execution_count": 35,
   "metadata": {
    "scrolled": true
   },
   "outputs": [],
   "source": [
    "# drooping the redudant columns and reseting the index \n",
    "df.drop(['condition_code','neo','pha',],axis=1,inplace=True)\n",
    "df.reset_index(drop=True, inplace=True)"
   ]
  },
  {
   "cell_type": "code",
   "execution_count": 36,
   "metadata": {
    "scrolled": true
   },
   "outputs": [
    {
     "data": {
      "text/html": [
       "<div>\n",
       "<style scoped>\n",
       "    .dataframe tbody tr th:only-of-type {\n",
       "        vertical-align: middle;\n",
       "    }\n",
       "\n",
       "    .dataframe tbody tr th {\n",
       "        vertical-align: top;\n",
       "    }\n",
       "\n",
       "    .dataframe thead th {\n",
       "        text-align: right;\n",
       "    }\n",
       "</style>\n",
       "<table border=\"1\" class=\"dataframe\">\n",
       "  <thead>\n",
       "    <tr style=\"text-align: right;\">\n",
       "      <th></th>\n",
       "      <th>a</th>\n",
       "      <th>e</th>\n",
       "      <th>i</th>\n",
       "      <th>om</th>\n",
       "      <th>w</th>\n",
       "      <th>q</th>\n",
       "      <th>ad</th>\n",
       "      <th>per_y</th>\n",
       "      <th>data_arc</th>\n",
       "      <th>n_obs_used</th>\n",
       "      <th>...</th>\n",
       "      <th>condition_code_4</th>\n",
       "      <th>condition_code_5</th>\n",
       "      <th>condition_code_6</th>\n",
       "      <th>condition_code_7</th>\n",
       "      <th>condition_code_8</th>\n",
       "      <th>condition_code_9</th>\n",
       "      <th>neo_0</th>\n",
       "      <th>neo_1</th>\n",
       "      <th>pha_0</th>\n",
       "      <th>pha_1</th>\n",
       "    </tr>\n",
       "  </thead>\n",
       "  <tbody>\n",
       "    <tr>\n",
       "      <th>0</th>\n",
       "      <td>0.843799</td>\n",
       "      <td>-1.464625</td>\n",
       "      <td>3.713068</td>\n",
       "      <td>80.305532</td>\n",
       "      <td>73.597694</td>\n",
       "      <td>1.052077</td>\n",
       "      <td>0.817198</td>\n",
       "      <td>1.265711</td>\n",
       "      <td>196.977478</td>\n",
       "      <td>25.798618</td>\n",
       "      <td>...</td>\n",
       "      <td>0.0</td>\n",
       "      <td>0.0</td>\n",
       "      <td>0.0</td>\n",
       "      <td>0.0</td>\n",
       "      <td>0.0</td>\n",
       "      <td>0.0</td>\n",
       "      <td>1.0</td>\n",
       "      <td>0.0</td>\n",
       "      <td>1.0</td>\n",
       "      <td>0.0</td>\n",
       "    </tr>\n",
       "    <tr>\n",
       "      <th>1</th>\n",
       "      <td>0.844606</td>\n",
       "      <td>-1.047389</td>\n",
       "      <td>7.175998</td>\n",
       "      <td>173.080063</td>\n",
       "      <td>310.048857</td>\n",
       "      <td>0.830133</td>\n",
       "      <td>0.887937</td>\n",
       "      <td>1.266921</td>\n",
       "      <td>577.403867</td>\n",
       "      <td>54.570679</td>\n",
       "      <td>...</td>\n",
       "      <td>0.0</td>\n",
       "      <td>0.0</td>\n",
       "      <td>0.0</td>\n",
       "      <td>0.0</td>\n",
       "      <td>0.0</td>\n",
       "      <td>0.0</td>\n",
       "      <td>1.0</td>\n",
       "      <td>0.0</td>\n",
       "      <td>1.0</td>\n",
       "      <td>0.0</td>\n",
       "    </tr>\n",
       "    <tr>\n",
       "      <th>2</th>\n",
       "      <td>0.818692</td>\n",
       "      <td>-0.992641</td>\n",
       "      <td>4.206153</td>\n",
       "      <td>169.852760</td>\n",
       "      <td>248.138626</td>\n",
       "      <td>0.743363</td>\n",
       "      <td>0.879546</td>\n",
       "      <td>1.228051</td>\n",
       "      <td>578.891807</td>\n",
       "      <td>51.340880</td>\n",
       "      <td>...</td>\n",
       "      <td>0.0</td>\n",
       "      <td>0.0</td>\n",
       "      <td>0.0</td>\n",
       "      <td>0.0</td>\n",
       "      <td>0.0</td>\n",
       "      <td>0.0</td>\n",
       "      <td>1.0</td>\n",
       "      <td>0.0</td>\n",
       "      <td>1.0</td>\n",
       "      <td>0.0</td>\n",
       "    </tr>\n",
       "    <tr>\n",
       "      <th>3</th>\n",
       "      <td>0.732499</td>\n",
       "      <td>-1.419088</td>\n",
       "      <td>2.855547</td>\n",
       "      <td>103.810804</td>\n",
       "      <td>150.728541</td>\n",
       "      <td>0.840217</td>\n",
       "      <td>0.733665</td>\n",
       "      <td>1.098762</td>\n",
       "      <td>330.845384</td>\n",
       "      <td>56.346923</td>\n",
       "      <td>...</td>\n",
       "      <td>0.0</td>\n",
       "      <td>0.0</td>\n",
       "      <td>0.0</td>\n",
       "      <td>0.0</td>\n",
       "      <td>0.0</td>\n",
       "      <td>0.0</td>\n",
       "      <td>1.0</td>\n",
       "      <td>0.0</td>\n",
       "      <td>1.0</td>\n",
       "      <td>0.0</td>\n",
       "    </tr>\n",
       "    <tr>\n",
       "      <th>4</th>\n",
       "      <td>0.793638</td>\n",
       "      <td>-1.134419</td>\n",
       "      <td>2.305834</td>\n",
       "      <td>141.576604</td>\n",
       "      <td>358.687608</td>\n",
       "      <td>0.800966</td>\n",
       "      <td>0.832623</td>\n",
       "      <td>1.190470</td>\n",
       "      <td>540.063843</td>\n",
       "      <td>37.469962</td>\n",
       "      <td>...</td>\n",
       "      <td>0.0</td>\n",
       "      <td>0.0</td>\n",
       "      <td>0.0</td>\n",
       "      <td>0.0</td>\n",
       "      <td>0.0</td>\n",
       "      <td>0.0</td>\n",
       "      <td>1.0</td>\n",
       "      <td>0.0</td>\n",
       "      <td>1.0</td>\n",
       "      <td>0.0</td>\n",
       "    </tr>\n",
       "  </tbody>\n",
       "</table>\n",
       "<p>5 rows × 28 columns</p>\n",
       "</div>"
      ],
      "text/plain": [
       "          a         e         i          om           w         q        ad  \\\n",
       "0  0.843799 -1.464625  3.713068   80.305532   73.597694  1.052077  0.817198   \n",
       "1  0.844606 -1.047389  7.175998  173.080063  310.048857  0.830133  0.887937   \n",
       "2  0.818692 -0.992641  4.206153  169.852760  248.138626  0.743363  0.879546   \n",
       "3  0.732499 -1.419088  2.855547  103.810804  150.728541  0.840217  0.733665   \n",
       "4  0.793638 -1.134419  2.305834  141.576604  358.687608  0.800966  0.832623   \n",
       "\n",
       "      per_y    data_arc  n_obs_used  ...  condition_code_4  condition_code_5  \\\n",
       "0  1.265711  196.977478   25.798618  ...               0.0               0.0   \n",
       "1  1.266921  577.403867   54.570679  ...               0.0               0.0   \n",
       "2  1.228051  578.891807   51.340880  ...               0.0               0.0   \n",
       "3  1.098762  330.845384   56.346923  ...               0.0               0.0   \n",
       "4  1.190470  540.063843   37.469962  ...               0.0               0.0   \n",
       "\n",
       "   condition_code_6  condition_code_7  condition_code_8  condition_code_9  \\\n",
       "0               0.0               0.0               0.0               0.0   \n",
       "1               0.0               0.0               0.0               0.0   \n",
       "2               0.0               0.0               0.0               0.0   \n",
       "3               0.0               0.0               0.0               0.0   \n",
       "4               0.0               0.0               0.0               0.0   \n",
       "\n",
       "   neo_0  neo_1  pha_0  pha_1  \n",
       "0    1.0    0.0    1.0    0.0  \n",
       "1    1.0    0.0    1.0    0.0  \n",
       "2    1.0    0.0    1.0    0.0  \n",
       "3    1.0    0.0    1.0    0.0  \n",
       "4    1.0    0.0    1.0    0.0  \n",
       "\n",
       "[5 rows x 28 columns]"
      ]
     },
     "execution_count": 36,
     "metadata": {},
     "output_type": "execute_result"
    }
   ],
   "source": [
    "df1= pd.concat([df , cat_df ], axis=1)\n",
    "df1.head()"
   ]
  },
  {
   "cell_type": "markdown",
   "metadata": {},
   "source": [
    "<a id=\"t4.\"></a>\n",
    "# 4. Modelling"
   ]
  },
  {
   "cell_type": "code",
   "execution_count": 37,
   "metadata": {
    "scrolled": false
   },
   "outputs": [],
   "source": [
    "X = df1.drop(['diameter'],axis=1)\n",
    "y = df1['diameter']"
   ]
  },
  {
   "cell_type": "code",
   "execution_count": 38,
   "metadata": {
    "scrolled": false
   },
   "outputs": [],
   "source": [
    "from sklearn.model_selection import train_test_split\n",
    "X_train, X_test, y_train, y_test = train_test_split(X, y, test_size = 0.3, random_state = 10)\n",
    "\n",
    "# Feature Scaling\n",
    "from sklearn.preprocessing import MinMaxScaler\n",
    "sc = MinMaxScaler()\n",
    "X_train = sc.fit_transform(X_train)\n",
    "X_test = sc.transform(X_test)"
   ]
  },
  {
   "cell_type": "markdown",
   "metadata": {},
   "source": [
    "<a id=\"t4.1.\"></a>\n",
    "# 4.1. Linear Regression"
   ]
  },
  {
   "cell_type": "code",
   "execution_count": 39,
   "metadata": {
    "scrolled": false
   },
   "outputs": [
    {
     "name": "stdout",
     "output_type": "stream",
     "text": [
      "R_SQAURE_score is 0.947150107460583\n",
      "\n",
      "Training RMSE is 0.119161531246541\n",
      "Testing RMSE is 0.12017709413854114\n"
     ]
    }
   ],
   "source": [
    "import numpy as np\n",
    "from sklearn.metrics import r2_score , mean_squared_error\n",
    "from sklearn.linear_model import LinearRegression\n",
    "\n",
    "# Fitting Multiple Linear Regression to the Training set\n",
    "Multiple_regressor = LinearRegression()\n",
    "Multiple_regressor.fit(X_train, y_train)\n",
    "\n",
    "#prediciting the values of both train and test using the model \n",
    "MLR_y_Train_pred = Multiple_regressor.predict(X_train)\n",
    "MLR_y_Test_pred = Multiple_regressor.predict(X_test)\n",
    "\n",
    "\n",
    "# training and testing RMSE\n",
    "MLR_Train_RMSE = np.sqrt(mean_squared_error(y_train , MLR_y_Train_pred))\n",
    "MLR_Test_RMSE= np.sqrt(mean_squared_error(y_test , MLR_y_Test_pred))\n",
    "\n",
    "# R-square score\n",
    "MLR_r2 = r2_score(y_test , MLR_y_Test_pred)\n",
    "\n",
    "# Displaying the value \n",
    "print('R_SQAURE_score is {}'.format(MLR_r2))\n",
    "print()\n",
    "print('Training RMSE is {}'.format(MLR_Train_RMSE))\n",
    "print('Testing RMSE is {}'.format(MLR_Test_RMSE))"
   ]
  },
  {
   "cell_type": "code",
   "execution_count": 40,
   "metadata": {},
   "outputs": [
    {
     "data": {
      "image/png": "[encoded data removed]",
      "text/plain": [
       "<Figure size 432x288 with 1 Axes>"
      ]
     },
     "metadata": {
      "needs_background": "light"
     },
     "output_type": "display_data"
    }
   ],
   "source": [
    "#Create a QQ Plot and interpret it?\n",
    "\n",
    "import numpy as np \n",
    "import statsmodels.api as sm \n",
    "import pylab as py \n",
    "errors= y_train - MLR_y_Train_pred     \n",
    "sm.qqplot(errors,line='s') \n",
    "py.show()"
   ]
  },
  {
   "cell_type": "markdown",
   "metadata": {},
   "source": [
    "<a id=\"t4.2.\"></a>\n",
    "# 4.2. Ridge Regression"
   ]
  },
  {
   "cell_type": "code",
   "execution_count": 41,
   "metadata": {
    "scrolled": false
   },
   "outputs": [
    {
     "name": "stdout",
     "output_type": "stream",
     "text": [
      "R_SQAURE_score is 0.9464454788296044\n",
      "\n",
      "Training RMSE is 0.12008409247706668\n",
      "Testing RMSE is 0.12097558047950675\n"
     ]
    }
   ],
   "source": [
    "\n",
    "from sklearn.linear_model import Ridge\n",
    "Ridge_regressor = Ridge(alpha=0.5)\n",
    "Ridge_regressor.fit(X_train , y_train)\n",
    "\n",
    "#prediciting the values of both train and test using the model \n",
    "Ridge_y_Train_pred = Ridge_regressor.predict(X_train)\n",
    "Ridge_y_Test_pred = Ridge_regressor.predict(X_test)\n",
    "\n",
    "# training and testing RMSE\n",
    "Ridge_Train_RMSE = np.sqrt(mean_squared_error(y_train , Ridge_y_Train_pred))\n",
    "Ridge_Test_RMSE = np.sqrt(mean_squared_error(y_test , Ridge_y_Test_pred))\n",
    "\n",
    "# R-square score\n",
    "Ridge_r2 = r2_score(y_test , Ridge_y_Test_pred)\n",
    "\n",
    "# Displaying the value \n",
    "print('R_SQAURE_score is {}'.format(Ridge_r2))\n",
    "print()\n",
    "print('Training RMSE is {}'.format(Ridge_Train_RMSE))\n",
    "print('Testing RMSE is {}'.format(Ridge_Test_RMSE))"
   ]
  },
  {
   "cell_type": "markdown",
   "metadata": {},
   "source": [
    "<a id=\"t4.7.\"></a>\n",
    "# 4.7. DecisionTree Regression "
   ]
  },
  {
   "cell_type": "code",
   "execution_count": 42,
   "metadata": {
    "scrolled": false
   },
   "outputs": [
    {
     "name": "stdout",
     "output_type": "stream",
     "text": [
      "R_SQAURE_score is 0.8073447855714921\n",
      "\n",
      "Training RMSE is 0.22583212866923516\n",
      "Testing RMSE is 0.22945103890748628\n"
     ]
    }
   ],
   "source": [
    "from sklearn.tree import DecisionTreeRegressor\n",
    "import numpy as np\n",
    "from sklearn.metrics import r2_score , mean_squared_error\n",
    "\n",
    "# Training the model\n",
    "DecisionTree_regressor = DecisionTreeRegressor( criterion= 'mae' , max_depth = 4 , random_state = 10)  \n",
    "DecisionTree_regressor.fit(X_train, y_train) \n",
    "\n",
    "#prediciting the values of both train and test using the model \n",
    "DecisionTree_y_Train_pred = DecisionTree_regressor.predict(X_train)\n",
    "DecisionTree_y_Test_pred = DecisionTree_regressor.predict(X_test)\n",
    "\n",
    "\n",
    "# training and testing RMSE\n",
    "DecisionTree_Train_RMSE = np.sqrt(mean_squared_error(y_train , DecisionTree_y_Train_pred))\n",
    "DecisionTree_Test_RMSE = np.sqrt(mean_squared_error(y_test , DecisionTree_y_Test_pred))\n",
    "\n",
    "# R-square score\n",
    "DecisionTree_r2 = r2_score(y_test , DecisionTree_y_Test_pred)\n",
    "\n",
    "# Displaying the value \n",
    "print('R_SQAURE_score is {}'.format(DecisionTree_r2))\n",
    "print()\n",
    "print('Training RMSE is {}'.format(DecisionTree_Train_RMSE))\n",
    "print('Testing RMSE is {}'.format(DecisionTree_Test_RMSE))"
   ]
  },
  {
   "cell_type": "markdown",
   "metadata": {},
   "source": [
    "<a id=\"t4.8.\"></a>\n",
    "# 4.8. RandomForest Regression"
   ]
  },
  {
   "cell_type": "code",
   "execution_count": 43,
   "metadata": {
    "scrolled": true
   },
   "outputs": [
    {
     "name": "stdout",
     "output_type": "stream",
     "text": [
      "R_SQAURE_score is 0.8198697991263584\n",
      "\n",
      "Training RMSE is 0.21981777720070284\n",
      "Testing RMSE is 0.22186710215312586\n"
     ]
    }
   ],
   "source": [
    "from sklearn.ensemble import RandomForestRegressor\n",
    "import numpy as np\n",
    "from sklearn.metrics import r2_score , mean_squared_error \n",
    "\n",
    "# Training the model\n",
    "RandomForest_regressor = RandomForestRegressor( n_estimators=150 , max_depth= 4 )  \n",
    "RandomForest_regressor.fit(X_train, y_train) \n",
    "\n",
    "#prediciting the values of both train and test using the model \n",
    "RandomForest_y_Train_pred = RandomForest_regressor.predict(X_train)\n",
    "RandomForest_y_Test_pred = RandomForest_regressor.predict(X_test)\n",
    "\n",
    "# training and testing RMSE\n",
    "RandomForest_Train_RMSE = np.sqrt(mean_squared_error(y_train , RandomForest_y_Train_pred))\n",
    "RandomForest_Test_RMSE = np.sqrt(mean_squared_error(y_test , RandomForest_y_Test_pred))\n",
    "\n",
    "# R-square score\n",
    "RandomForest_r2 = r2_score(y_test , RandomForest_y_Test_pred)\n",
    "\n",
    "# Displaying the value \n",
    "print('R_SQAURE_score is {}'.format(RandomForest_r2))\n",
    "print()\n",
    "print('Training RMSE is {}'.format(RandomForest_Train_RMSE))\n",
    "print('Testing RMSE is {}'.format(RandomForest_Test_RMSE))\n"
   ]
  },
  {
   "cell_type": "markdown",
   "metadata": {},
   "source": [
    "<a id=\"t4.11.\"></a>\n",
    "# 4.11. GRADIENT BOOSTING(GBM)"
   ]
  },
  {
   "cell_type": "code",
   "execution_count": 44,
   "metadata": {},
   "outputs": [
    {
     "name": "stdout",
     "output_type": "stream",
     "text": [
      "R_SQAURE_score is 0.9622494103494086\n",
      "\n",
      "Training RMSE is 0.09959267189438066\n",
      "Testing RMSE is 0.10156907893148213\n"
     ]
    }
   ],
   "source": [
    "from sklearn.ensemble import GradientBoostingRegressor\n",
    "\n",
    "GBoost_regressor= GradientBoostingRegressor( loss='huber' , max_depth = 3 , n_estimators= 150 , learning_rate= 0.1 )\n",
    "GBoost_regressor.fit(X_train, y_train)\n",
    "\n",
    "\n",
    "#prediciting the values of both train and test using the model \n",
    "GBoost_y_Train_pred = GBoost_regressor.predict(X_train)\n",
    "GBoost_y_Test_pred  = GBoost_regressor.predict(X_test)\n",
    "\n",
    "# training and testing RMSE\n",
    "GBoost_Train_RMSE = np.sqrt(mean_squared_error(y_train , GBoost_y_Train_pred))\n",
    "GBoost_Test_RMSE = np.sqrt(mean_squared_error(y_test , GBoost_y_Test_pred))\n",
    "\n",
    "# R-square score\n",
    "GBoost_r2 = r2_score( y_test , GBoost_y_Test_pred)\n",
    "\n",
    "\n",
    "print('R_SQAURE_score is {}'.format(GBoost_r2))\n",
    "print()\n",
    "print('Training RMSE is {}'.format(GBoost_Train_RMSE))\n",
    "print('Testing RMSE is {}'.format(GBoost_Test_RMSE))"
   ]
  },
  {
   "cell_type": "markdown",
   "metadata": {},
   "source": [
    "<a id=\"t4.12.\"></a>\n",
    "# 4.12. XGBOOST"
   ]
  },
  {
   "cell_type": "code",
   "execution_count": 45,
   "metadata": {
    "scrolled": false
   },
   "outputs": [
    {
     "name": "stdout",
     "output_type": "stream",
     "text": [
      "R_SQAURE_score is 0.9666909602729287\n",
      "\n",
      "Training RMSE is 0.09249621660568255\n",
      "Testing RMSE is 0.09540710118453836\n"
     ]
    }
   ],
   "source": [
    "import xgboost as xgb\n",
    "XGBoost_regressor = xgb.XGBRegressor( objective='reg:squarederror' , loss='lad' , max_depth = 4 , n_estimators= 150 , learning_rate= 0.05 )\n",
    "XGBoost_regressor.fit(X_train, y_train)\n",
    "\n",
    "#prediciting the values of both train and test using the model \n",
    "XGBoost_y_Train_pred = XGBoost_regressor.predict(X_train)\n",
    "XGBoost_y_Test_pred = XGBoost_regressor.predict(X_test)\n",
    "\n",
    "# training and testing RMSE\n",
    "XGBoost_Train_RMSE = np.sqrt(mean_squared_error(y_train , XGBoost_y_Train_pred))\n",
    "XGBoost_Test_RMSE = np.sqrt(mean_squared_error(y_test , XGBoost_y_Test_pred))\n",
    "\n",
    "# R-square score\n",
    "XGBoost_r2 = r2_score( y_test, XGBoost_y_Test_pred)\n",
    "\n",
    "\n",
    "print('R_SQAURE_score is {}'.format(XGBoost_r2))\n",
    "print()\n",
    "print('Training RMSE is {}'.format(XGBoost_Train_RMSE))\n",
    "print('Testing RMSE is {}'.format(XGBoost_Test_RMSE))\n"
   ]
  },
  {
   "cell_type": "code",
   "execution_count": 46,
   "metadata": {},
   "outputs": [],
   "source": [
    "results = pd.DataFrame({ 'Model'      : ['Linear Regression','Ridge Regressor','Decision Tree','Random Forest','Gradient Boosting','XGBoost'],\n",
    "                         'R2'         : [MLR_r2         , Ridge_r2         , DecisionTree_r2         , RandomForest_r2         , GBoost_r2         , XGBoost_r2         ] ,\n",
    "                         'Train RMSE' : [MLR_Train_RMSE , Ridge_Train_RMSE , DecisionTree_Train_RMSE , RandomForest_Train_RMSE , GBoost_Train_RMSE , XGBoost_Train_RMSE ] ,\n",
    "                         'Test RMSE'  : [MLR_Test_RMSE  , Ridge_Test_RMSE  , DecisionTree_Test_RMSE  , RandomForest_Test_RMSE  , GBoost_Test_RMSE  , XGBoost_Test_RMSE  ] ,\n",
    "                         \n",
    "                         'Difference' : [(MLR_Test_RMSE - MLR_Train_RMSE),(Ridge_Test_RMSE - Ridge_Train_RMSE ),(DecisionTree_Test_RMSE - DecisionTree_Train_RMSE),(RandomForest_Test_RMSE - RandomForest_Train_RMSE),(GBoost_Test_RMSE - GBoost_Train_RMSE),(XGBoost_Test_RMSE - XGBoost_Train_RMSE)]\n",
    "                       })"
   ]
  },
  {
   "cell_type": "code",
   "execution_count": 47,
   "metadata": {},
   "outputs": [
    {
     "data": {
      "text/html": [
       "<div>\n",
       "<style scoped>\n",
       "    .dataframe tbody tr th:only-of-type {\n",
       "        vertical-align: middle;\n",
       "    }\n",
       "\n",
       "    .dataframe tbody tr th {\n",
       "        vertical-align: top;\n",
       "    }\n",
       "\n",
       "    .dataframe thead th {\n",
       "        text-align: right;\n",
       "    }\n",
       "</style>\n",
       "<table border=\"1\" class=\"dataframe\">\n",
       "  <thead>\n",
       "    <tr style=\"text-align: right;\">\n",
       "      <th></th>\n",
       "      <th>R2</th>\n",
       "      <th>Train RMSE</th>\n",
       "      <th>Test RMSE</th>\n",
       "      <th>Difference</th>\n",
       "    </tr>\n",
       "    <tr>\n",
       "      <th>Model</th>\n",
       "      <th></th>\n",
       "      <th></th>\n",
       "      <th></th>\n",
       "      <th></th>\n",
       "    </tr>\n",
       "  </thead>\n",
       "  <tbody>\n",
       "    <tr>\n",
       "      <th>Linear Regression</th>\n",
       "      <td>0.947150</td>\n",
       "      <td>0.119162</td>\n",
       "      <td>0.120177</td>\n",
       "      <td>0.001016</td>\n",
       "    </tr>\n",
       "    <tr>\n",
       "      <th>Ridge Regressor</th>\n",
       "      <td>0.946445</td>\n",
       "      <td>0.120084</td>\n",
       "      <td>0.120976</td>\n",
       "      <td>0.000891</td>\n",
       "    </tr>\n",
       "    <tr>\n",
       "      <th>Decision Tree</th>\n",
       "      <td>0.807345</td>\n",
       "      <td>0.225832</td>\n",
       "      <td>0.229451</td>\n",
       "      <td>0.003619</td>\n",
       "    </tr>\n",
       "    <tr>\n",
       "      <th>Random Forest</th>\n",
       "      <td>0.819870</td>\n",
       "      <td>0.219818</td>\n",
       "      <td>0.221867</td>\n",
       "      <td>0.002049</td>\n",
       "    </tr>\n",
       "    <tr>\n",
       "      <th>Gradient Boosting</th>\n",
       "      <td>0.962249</td>\n",
       "      <td>0.099593</td>\n",
       "      <td>0.101569</td>\n",
       "      <td>0.001976</td>\n",
       "    </tr>\n",
       "    <tr>\n",
       "      <th>XGBoost</th>\n",
       "      <td>0.966691</td>\n",
       "      <td>0.092496</td>\n",
       "      <td>0.095407</td>\n",
       "      <td>0.002911</td>\n",
       "    </tr>\n",
       "  </tbody>\n",
       "</table>\n",
       "</div>"
      ],
      "text/plain": [
       "                         R2  Train RMSE  Test RMSE  Difference\n",
       "Model                                                         \n",
       "Linear Regression  0.947150    0.119162   0.120177    0.001016\n",
       "Ridge Regressor    0.946445    0.120084   0.120976    0.000891\n",
       "Decision Tree      0.807345    0.225832   0.229451    0.003619\n",
       "Random Forest      0.819870    0.219818   0.221867    0.002049\n",
       "Gradient Boosting  0.962249    0.099593   0.101569    0.001976\n",
       "XGBoost            0.966691    0.092496   0.095407    0.002911"
      ]
     },
     "execution_count": 47,
     "metadata": {},
     "output_type": "execute_result"
    }
   ],
   "source": [
    "results.set_index('Model' , inplace = True )\n",
    "results"
   ]
  },
  {
   "cell_type": "code",
   "execution_count": 48,
   "metadata": {},
   "outputs": [
    {
     "data": {
      "text/html": [
       "<div>\n",
       "<style scoped>\n",
       "    .dataframe tbody tr th:only-of-type {\n",
       "        vertical-align: middle;\n",
       "    }\n",
       "\n",
       "    .dataframe tbody tr th {\n",
       "        vertical-align: top;\n",
       "    }\n",
       "\n",
       "    .dataframe thead th {\n",
       "        text-align: right;\n",
       "    }\n",
       "</style>\n",
       "<table border=\"1\" class=\"dataframe\">\n",
       "  <thead>\n",
       "    <tr style=\"text-align: right;\">\n",
       "      <th></th>\n",
       "      <th>R2</th>\n",
       "      <th>Train RMSE</th>\n",
       "      <th>Test RMSE</th>\n",
       "      <th>Difference</th>\n",
       "    </tr>\n",
       "    <tr>\n",
       "      <th>Model</th>\n",
       "      <th></th>\n",
       "      <th></th>\n",
       "      <th></th>\n",
       "      <th></th>\n",
       "    </tr>\n",
       "  </thead>\n",
       "  <tbody>\n",
       "    <tr>\n",
       "      <th>Ridge Regressor</th>\n",
       "      <td>0.946445</td>\n",
       "      <td>0.120084</td>\n",
       "      <td>0.120976</td>\n",
       "      <td>0.000891</td>\n",
       "    </tr>\n",
       "    <tr>\n",
       "      <th>Linear Regression</th>\n",
       "      <td>0.947150</td>\n",
       "      <td>0.119162</td>\n",
       "      <td>0.120177</td>\n",
       "      <td>0.001016</td>\n",
       "    </tr>\n",
       "    <tr>\n",
       "      <th>Gradient Boosting</th>\n",
       "      <td>0.962249</td>\n",
       "      <td>0.099593</td>\n",
       "      <td>0.101569</td>\n",
       "      <td>0.001976</td>\n",
       "    </tr>\n",
       "    <tr>\n",
       "      <th>Random Forest</th>\n",
       "      <td>0.819870</td>\n",
       "      <td>0.219818</td>\n",
       "      <td>0.221867</td>\n",
       "      <td>0.002049</td>\n",
       "    </tr>\n",
       "    <tr>\n",
       "      <th>XGBoost</th>\n",
       "      <td>0.966691</td>\n",
       "      <td>0.092496</td>\n",
       "      <td>0.095407</td>\n",
       "      <td>0.002911</td>\n",
       "    </tr>\n",
       "    <tr>\n",
       "      <th>Decision Tree</th>\n",
       "      <td>0.807345</td>\n",
       "      <td>0.225832</td>\n",
       "      <td>0.229451</td>\n",
       "      <td>0.003619</td>\n",
       "    </tr>\n",
       "  </tbody>\n",
       "</table>\n",
       "</div>"
      ],
      "text/plain": [
       "                         R2  Train RMSE  Test RMSE  Difference\n",
       "Model                                                         \n",
       "Ridge Regressor    0.946445    0.120084   0.120976    0.000891\n",
       "Linear Regression  0.947150    0.119162   0.120177    0.001016\n",
       "Gradient Boosting  0.962249    0.099593   0.101569    0.001976\n",
       "Random Forest      0.819870    0.219818   0.221867    0.002049\n",
       "XGBoost            0.966691    0.092496   0.095407    0.002911\n",
       "Decision Tree      0.807345    0.225832   0.229451    0.003619"
      ]
     },
     "execution_count": 48,
     "metadata": {},
     "output_type": "execute_result"
    }
   ],
   "source": [
    "results.sort_values(['Difference'])"
   ]
  },
  {
   "cell_type": "code",
   "execution_count": 49,
   "metadata": {
    "scrolled": true
   },
   "outputs": [
    {
     "data": {
      "image/png": "[encoded data removed]",
      "text/plain": [
       "<Figure size 1440x360 with 2 Axes>"
      ]
     },
     "metadata": {
      "needs_background": "light"
     },
     "output_type": "display_data"
    }
   ],
   "source": [
    "import pandas as pd \n",
    "import matplotlib.pyplot as plt\n",
    "fig , (ax1 , ax2) = plt.subplots(1,2 , figsize = (20,5))\n",
    "ax1.bar(results.index , results['R2'])\n",
    "ax2.bar(results.index , results['Difference'])\n",
    "ax1.set_xticklabels(results.index, rotation=90)\n",
    "ax2.set_xticklabels(results.index, rotation=90)\n",
    "plt.show()"
   ]
  },
  {
   "cell_type": "markdown",
   "metadata": {},
   "source": [
    "## Conclusion "
   ]
  },
  {
   "cell_type": "markdown",
   "metadata": {},
   "source": [
    "- As there isnt much of the difference between the test and training RMSE in all of the models \n",
    "- we select the one with the lowest difference as the best model \n",
    "- Ridge regression Model has a R2 value of 0.946 and has the lowest RMSE difference"
   ]
  }
 ],
 "metadata": {
  "kernelspec": {
   "display_name": "Python 3",
   "language": "python",
   "name": "python3"
  },
  "language_info": {
   "codemirror_mode": {
    "name": "ipython",
    "version": 3
   },
   "file_extension": ".py",
   "mimetype": "text/x-python",
   "name": "python",
   "nbconvert_exporter": "python",
   "pygments_lexer": "ipython3",
   "version": "3.7.6"
  }
 },
 "nbformat": 4,
 "nbformat_minor": 2
}
